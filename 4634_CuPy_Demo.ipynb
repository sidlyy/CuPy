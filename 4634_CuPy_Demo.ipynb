{
  "nbformat": 4,
  "nbformat_minor": 0,
  "metadata": {
    "colab": {
      "provenance": []
    },
    "kernelspec": {
      "name": "python3",
      "display_name": "Python 3"
    },
    "language_info": {
      "name": "python"
    },
    "gpuClass": "premium"
  },
  "cells": [
    {
      "cell_type": "code",
      "execution_count": null,
      "metadata": {
        "id": "3B7Oe3ZdD5vD",
        "colab": {
          "base_uri": "https://localhost:8080/"
        },
        "outputId": "3bddc756-8689-48b8-8adf-3e796602c4f6"
      },
      "outputs": [
        {
          "output_type": "stream",
          "name": "stdout",
          "text": [
            "Sat Dec 10 18:52:26 2022       \n",
            "+-----------------------------------------------------------------------------+\n",
            "| NVIDIA-SMI 460.32.03    Driver Version: 460.32.03    CUDA Version: 11.2     |\n",
            "|-------------------------------+----------------------+----------------------+\n",
            "| GPU  Name        Persistence-M| Bus-Id        Disp.A | Volatile Uncorr. ECC |\n",
            "| Fan  Temp  Perf  Pwr:Usage/Cap|         Memory-Usage | GPU-Util  Compute M. |\n",
            "|                               |                      |               MIG M. |\n",
            "|===============================+======================+======================|\n",
            "|   0  Tesla T4            Off  | 00000000:00:04.0 Off |                    0 |\n",
            "| N/A   63C    P0    27W /  70W |      0MiB / 15109MiB |      0%      Default |\n",
            "|                               |                      |                  N/A |\n",
            "+-------------------------------+----------------------+----------------------+\n",
            "                                                                               \n",
            "+-----------------------------------------------------------------------------+\n",
            "| Processes:                                                                  |\n",
            "|  GPU   GI   CI        PID   Type   Process name                  GPU Memory |\n",
            "|        ID   ID                                                   Usage      |\n",
            "|=============================================================================|\n",
            "|  No running processes found                                                 |\n",
            "+-----------------------------------------------------------------------------+\n"
          ]
        }
      ],
      "source": [
        "import numpy as np\n",
        "import cupy as cp\n",
        "import pandas as pd\n",
        "import scipy\n",
        "\n",
        "from cupyx.profiler import benchmark; \n",
        "import time\n",
        "import matplotlib.pyplot as plt\n",
        "\n",
        "%matplotlib inline\n",
        "!nvidia-smi"
      ]
    },
    {
      "cell_type": "markdown",
      "source": [
        "## CuPy:\n",
        "- Open source library to allow GPU-accelerated Python programming. Not just a NumPy replacement, but can function like that if you want it to.\n",
        "- CuPy is easy to use. Replaces NumPy in most general cases.\n",
        "- Interacts with more and more libraries safely for GPU Optimizations. But not all, and not always with speedup. \n",
        "- CuPy was built for neural networks, but was given it's own library through popular demand on open source (GitHub).\n",
        "- CuPy can be easy to use but also gives you the chance to make even more optimizations in various different ways.\n",
        "\n",
        "\n",
        "## Google Colab\n",
        "- Alternatives\n",
        " - Every day there are more and more alternatives to Google Colab. \n",
        " - Consider:\n",
        "    - https://hex.tech/ (SQL Integration, Google Docs like collaboration, new and cool)\n",
        "    - Notebooks possible in VSC (Microsoft) \n",
        "    - Amazon Sagemaker (Jupyter equivalent)\n",
        "- Google Colab gets a lot of hate, some of it is right. Some I found online included: \n",
        "  - Service interruptions\n",
        "  - Slow storage\n",
        "  - Non-configured environments\n",
        "  - Feature-poor\n",
        "  - It crashes (probably my fault, but also because a free service does not need to provide infinite computing resources to non-paying customers)\n",
        "\n",
        "- Colab Pro:\n",
        "  - Faster GPUs, more computing units?\n",
        "  - More memory through higher memory machine access\n",
        "- Colab Pro+:\n",
        "  - Second tier: Priority over Colab Pro for faster GPUs and more compute units. \n",
        "  - Background execution of your code, which may be useful for Data Science projects that involve lots of scraping or training, for example. Only up to 24 hours.\n",
        "  - Not worth it. 5x as expensive as Colab Pro on a service that many already consider unreliable. \n",
        "- My issues:\n",
        "  - Not the latest of every library is always pre-installed. Causes incompatability issues that are annoying to fix and re-run every session.\n",
        "  - When you lose access, you have to re-run the entire notebook to see your variables again. "
      ],
      "metadata": {
        "id": "i77daahhnSha"
      }
    },
    {
      "cell_type": "code",
      "source": [
        "# Simple way to upgrade any package using pip\n",
        "!pip install xgboost --upgrade\n",
        "import xgboost as xgb\n",
        "xgb.__version__\n",
        "# Look for 1.7.1 for CuPy compatibility"
      ],
      "metadata": {
        "colab": {
          "base_uri": "https://localhost:8080/",
          "height": 267
        },
        "id": "gmVXbplvmJC8",
        "outputId": "8f159463-bebe-47d9-fc8a-c00fdab5c664"
      },
      "execution_count": null,
      "outputs": [
        {
          "output_type": "stream",
          "name": "stdout",
          "text": [
            "Looking in indexes: https://pypi.org/simple, https://us-python.pkg.dev/colab-wheels/public/simple/\n",
            "Requirement already satisfied: xgboost in /usr/local/lib/python3.8/dist-packages (0.90)\n",
            "Collecting xgboost\n",
            "  Downloading xgboost-1.7.2-py3-none-manylinux2014_x86_64.whl (193.6 MB)\n",
            "\u001b[K     |████████████████████████████████| 193.6 MB 69 kB/s \n",
            "\u001b[?25hRequirement already satisfied: scipy in /usr/local/lib/python3.8/dist-packages (from xgboost) (1.7.3)\n",
            "Requirement already satisfied: numpy in /usr/local/lib/python3.8/dist-packages (from xgboost) (1.21.6)\n",
            "Installing collected packages: xgboost\n",
            "  Attempting uninstall: xgboost\n",
            "    Found existing installation: xgboost 0.90\n",
            "    Uninstalling xgboost-0.90:\n",
            "      Successfully uninstalled xgboost-0.90\n",
            "Successfully installed xgboost-1.7.2\n"
          ]
        },
        {
          "output_type": "execute_result",
          "data": {
            "text/plain": [
              "'1.7.2'"
            ],
            "application/vnd.google.colaboratory.intrinsic+json": {
              "type": "string"
            }
          },
          "metadata": {},
          "execution_count": 3
        }
      ]
    },
    {
      "cell_type": "markdown",
      "source": [
        "### Working with CuPy arrays:\n",
        "\n",
        "- CuPy is a GPU array backend. \n",
        "- Many parts of Numpy's interface works with CuPy too. \n",
        "- The cupy.ndarray class is in its core, which is a compatible GPU alternative of numpy.ndarray.\n",
        "-  CuPy implements many functions on cupy.ndarray objects. \n",
        "- CuPy has a way for us to easily access NumPy versions of GPU-enabled arrays."
      ],
      "metadata": {
        "id": "e-3oH9kWqhja"
      }
    },
    {
      "cell_type": "code",
      "source": [
        "#  Initialize a numpy array:\n",
        "x_cpu = np.array([1,2,3,4,5,6])\n",
        "\n",
        "#  Initialize a cupy array in either way:\n",
        "x_gpu = cp.array([1,2,3,4,5,6])\n",
        "\n",
        "print(type(x_gpu.get()))\n",
        "##         OUT: <class 'numpy.ndarray'> ##\n",
        "\n",
        "# What about different types?\n",
        "# use .get()\n",
        "# numpy has a dot function, so cupy does to\n",
        "dot_product = cp.dot(x_cpu, x_gpu.get())\n",
        "\n",
        "print(type(dot_product))\n",
        "## OUT:    <class 'numpy.int64'>       ##\n",
        "\n",
        "\n",
        "#  Fixing different types\n",
        "#  cupy can take numpy arrays with .asarray()\n",
        "better_dot_product = cp.dot(cp.asarray(x_cpu), x_gpu)\n",
        "\n",
        "\n",
        "print(type(better_dot_product))\n",
        "## OUT:    <class 'cupy.ndarray'>      ##\n",
        "\n",
        "\n",
        "# Doing the norm\n",
        "l2_cpu = np.linalg.norm(x_cpu)\n",
        "l2_gpu = cp.linalg.norm(x_gpu)\n",
        "\n",
        "\n",
        "# add using python\n",
        "# interoperability\n",
        "# hardest word I've ever said\n",
        "py_add = l2_cpu + l2_gpu\n",
        "print(type(py_add))\n",
        "\n",
        "# or just add using cupy\n",
        "cupy_added_vector = cp.add(l2_gpu, l2_cpu)\n",
        "print(type(cupy_added_vector))\n",
        "\n",
        "#   both\n",
        "#   OUT: cupy.ndarray\n",
        "\n",
        "# Is it equal?\n",
        "print(cupy_added_vector == py_add)\n",
        "\n",
        "del better_dot_product, dot_product, cupy_added_vector, l2_cpu, l2_gpu, py_add, x_cpu, x_gpu"
      ],
      "metadata": {
        "colab": {
          "base_uri": "https://localhost:8080/"
        },
        "id": "El9LnG5kEcQa",
        "outputId": "c39196b6-a7e9-4dae-f505-5353b7437db0"
      },
      "execution_count": null,
      "outputs": [
        {
          "output_type": "stream",
          "name": "stdout",
          "text": [
            "<class 'numpy.ndarray'>\n",
            "<class 'numpy.int64'>\n",
            "<class 'cupy.ndarray'>\n",
            "<class 'cupy.ndarray'>\n",
            "<class 'cupy.ndarray'>\n",
            "True\n"
          ]
        }
      ]
    },
    {
      "cell_type": "markdown",
      "source": [
        "###**Profiling**:\n",
        "\n",
        "CuPy has a built in benchmarking tool, but it does not compare against CPU implementations yet. (active issue on GitHub)\n",
        "\n",
        "CuPy shows speedups that are significant depending on the type of work and the size of the array. For smaller data, NumPy can generally be faster.\n",
        "\n",
        "#### SciPy:\n",
        "- \"SciPy provides algorithms for optimization, integration, interpolation, eigenvalue problems, algebraic equations, differential equations, statistics and many other classes of problems.\"\n",
        "- CuPy's main features is being a replacement for NumPy with SciPy allowing for speedup, but only on some operations is speedup significant. \n"
      ],
      "metadata": {
        "id": "n83oSVAAOwxr"
      }
    },
    {
      "cell_type": "code",
      "source": [
        "# using Benchmark, built into CuPy\n",
        "\n",
        "def my_gpu_func(a):\n",
        "    return cp.sqrt(cp.sum(a**2, axis=-1))\n",
        "\n",
        "a = cp.random.random((5000, 10240))\n",
        "\n",
        "print(benchmark(my_gpu_func, (a,), n_repeat=50)) \n",
        "del(a)"
      ],
      "metadata": {
        "id": "f94vKAV7PEfe",
        "colab": {
          "base_uri": "https://localhost:8080/"
        },
        "outputId": "320b19af-0426-4c72-a2f3-0ccc68566ec0"
      },
      "execution_count": null,
      "outputs": [
        {
          "output_type": "stream",
          "name": "stdout",
          "text": [
            "my_gpu_func         :    CPU:  199.754 us   +/-51.889 (min:  143.747 / max:  432.148) us     GPU-0:41308.811 us   +/-38.542 (min:41271.297 / max:41510.975) us\n"
          ]
        }
      ]
    },
    {
      "cell_type": "code",
      "source": [
        "# Using a Device synchronize\n",
        "# Using Python Time\n",
        "# Standard way others seem to be logging the time comparison of functions in Cupy and Numpy\n",
        "\n",
        "### Numpy and CPU ONES\n",
        "s1 = time.time()\n",
        "x_cpu = np.ones((1000,1000,1000)) # 1 billion\n",
        "e1 = time.time()\n",
        "print(\"CPU Ones Operation:\", f'{e1 - s1}{\" s\"}')  \n",
        "\n",
        "\n",
        "### CuPy and GPU ONES\n",
        "s2 = time.time()\n",
        "x_gpu = cp.ones((1000,1000,1000))\n",
        "cp.cuda.Stream.null.synchronize() # Still have to synchronize\n",
        "e2 = time.time()\n",
        "print(\"GPU Ones Operation\", f'{e2 - s2}{\" s\"}')\n",
        "print(\"Speedup: \" ,(e1-s1)/(e2-s2))\n",
        "del(x_cpu, x_gpu)\n",
        "print(\"\")\n",
        "\n",
        "### Numpy and CPU SUM \n",
        "x_cpu = np.ones((1000,1000,100)) # 100 Million\n",
        "s1 = time.time()\n",
        "x_cpu = np.sum(x_cpu)\n",
        "e1 = time.time()\n",
        "print(\"CPU Sum Operation:\", f'{e1 - s1}{\" s\"}')  \n",
        "del(x_cpu)\n",
        "\n",
        "\n",
        "### CuPy and GPU SUM\n",
        "x_gpu = cp.ones((1000,1000,100))\n",
        "s2 = time.time()\n",
        "x_gpu = np.sum(x_gpu)\n",
        "cp.cuda.Stream.null.synchronize() # Still have to synchronize\n",
        "e2 = time.time()\n",
        "print(\"GPU Sum Operation\", f'{e2 - s2}{\" s\"}')\n",
        "print(\"Speedup: \" ,(e1-s1)/(e2-s2))\n",
        "del(x_gpu)\n",
        "\n",
        "print(\"\")\n",
        "\n",
        "### Numpy and CPU Polyvander \n",
        "s1 = time.time()\n",
        "x_cpu = np.polynomial.polynomial.polyvander(np.random.rand(5000000), 1)\n",
        "e1 = time.time()\n",
        "print(\"CPU Polyvander Operation:\", f'{e1 - s1}{\" s\"}')  \n",
        "del(x_cpu)\n",
        "\n",
        "\n",
        "### CuPy and GPU Polyvander\n",
        "s2 = time.time()\n",
        "x_gpu = cp.polynomial.polynomial.polyvander(cp.random.rand(5000000), 1)\n",
        "cp.cuda.Stream.null.synchronize() # Still have to synchronize\n",
        "e2 = time.time()\n",
        "print(\"GPU Polyvander Operation\", f'{e2 - s2}{\" s\"}')\n",
        "print(\"Speedup: \" ,(e1-s1)/(e2-s2))\n",
        "del(x_gpu)\n",
        "\n",
        "del(e1,s2,e2,s1)"
      ],
      "metadata": {
        "colab": {
          "base_uri": "https://localhost:8080/"
        },
        "id": "ucL2krZbWE4e",
        "outputId": "256c51c2-f908-4f1f-b82e-ee6bb63a9ce2"
      },
      "execution_count": null,
      "outputs": [
        {
          "output_type": "stream",
          "name": "stdout",
          "text": [
            "CPU Ones Operation: 0.799933671951294 s\n",
            "GPU Ones Operation 0.0089874267578125 s\n",
            "Speedup:  89.0058626910017\n",
            "\n",
            "CPU Sum Operation: 0.06601834297180176 s\n",
            "GPU Sum Operation 0.000888824462890625 s\n",
            "Speedup:  74.27601931330472\n",
            "\n",
            "CPU Polyvander Operation: 0.07551908493041992 s\n",
            "GPU Polyvander Operation 0.0008699893951416016 s\n",
            "Speedup:  86.8046040010962\n"
          ]
        }
      ]
    },
    {
      "cell_type": "markdown",
      "source": [
        "## More speedup is possible. \n",
        "- Launch with environment variable: CUPY_ACCELERATORS=cub python for even faster speedups using the CUB\n",
        "\n",
        "### What is CUB? (CUDA UnBound)\n",
        "- Provides state-of-the-art, reusable software components for every layer of the CUDA programming model: \n",
        "- Seems to implement some of the things we manually wrote in class, essentially.\n",
        "- \" Collectives allow complex parallel code to be re-used rather than re-implemented, and to be re-compiled rather than hand-ported. \"\n",
        "\n",
        "> https://nvlabs.github.io/cub/\n",
        "\n",
        "\n",
        "\n",
        "\n",
        "---\n",
        "\n",
        "\n",
        "\n",
        "**Block Reduce Example Code:**\n",
        "\n",
        "https://nvlabs.github.io/cub/classcub_1_1_block_reduce.html\n",
        "\n",
        "> ![art_1.PNG](https://nvlabs.github.io/cub/reduce_logo.png)\n",
        "\n",
        "\n",
        "```\n",
        "__global__ void add(float* blocksum)\n",
        "{\n",
        "   float G = 1.0;\n",
        "  // Block wise reduction so that one thread in each block holds sum of thread  results\n",
        "    typedef cub::BlockReduce<float, BLOCK_SIZE, cub::BLOCK_REDUCE_RAKING, BLOCK_SIZE> BlockReduce;\n",
        "\n",
        "    __shared__ typename BlockReduce::TempStorage temp_storage;\n",
        "    float aggregate = BlockReduce(temp_storage).Sum(G);\n",
        "    __syncthreads();\n",
        "    if (threadIdx.x == 0 && threadIdx.y == 0)\n",
        "        blocksum[blockIdx.y*gridDim.x + blockIdx.x] = aggregate;\n",
        "}\n",
        "\n",
        "```\n",
        "\n"
      ],
      "metadata": {
        "id": "1I0jvAGjyzUd"
      }
    },
    {
      "cell_type": "markdown",
      "source": [
        "####Speedup measurements on single GPU for some operations:\n",
        "\n",
        "![speedups](https://miro.medium.com/max/720/1*-v7rQQd4QTAM8QV-yMhJSw.webp)"
      ],
      "metadata": {
        "id": "PDvH-KtwNrYS"
      }
    },
    {
      "cell_type": "markdown",
      "source": [
        "###**CuPy, Numba, and their value**\n",
        "\n",
        "- CuPy is different to Numba as it allows lower-level changes to your programs. \n",
        "\n",
        "- It uses CUDA-related libraries including cuBLAS, cuDNN, cuRand, cuSolver, cuSPARSE, cuFFT and NCCL to make full use of the GPU architecture. \n",
        "\n",
        "- NumPy is ubiquitous in Python, but does not take advantage of NVIDIA GPUs. \n",
        "\n",
        "- CuPy as a drop-in replacement with these added features can be a powerful and quick way to achieve significant speedup.\n",
        "\n",
        "\n"
      ],
      "metadata": {
        "id": "nZNe61p1PFas"
      }
    },
    {
      "cell_type": "markdown",
      "source": [
        "##**Regression model of arrays in CuPy:**\n",
        "\n",
        "- Model created in CuPy\n",
        "- Model created in (serial = realistic NumPy implementation) Python"
      ],
      "metadata": {
        "id": "o-CBMGs7PSQk"
      }
    },
    {
      "cell_type": "code",
      "source": [
        "## \n",
        "print(cp.cuda.runtime.getDeviceCount())\n",
        "data = pd.read_csv(\"/content/sample_data/california_housing_train.csv\")\n",
        "data.dropna()\n",
        "A = data[['median_house_value','median_income']]\n",
        "np_matrix = np.array(A.values,'float')\n",
        "\n",
        "plt.plot(np_matrix[:,0],np_matrix[:,1],'bo')\n",
        "plt.ylabel('Median Income')\n",
        "plt.xlabel('Median house value')\n",
        "plt.legend(['Median house value'])\n",
        "plt.title('House Value vs. Income')\n",
        "plt.grid()\n",
        "plt.show()\n",
        "\n",
        "s = time.time()\n",
        "\n",
        "fit = np.polyfit(np_matrix[:,0],np_matrix[:,1], 1)\n",
        "\n",
        "e = time.time()\n",
        "print(\"CPU Linear Fitting Operation\", f'{e - s}{\" s\"}')\n",
        "del(data, np_matrix, A, e, s)"
      ],
      "metadata": {
        "id": "nJVKgZ9OPRVT",
        "colab": {
          "base_uri": "https://localhost:8080/",
          "height": 330
        },
        "outputId": "80f22f9c-97fa-4367-b6fa-df695ac03cd5"
      },
      "execution_count": null,
      "outputs": [
        {
          "output_type": "stream",
          "name": "stdout",
          "text": [
            "1\n"
          ]
        },
        {
          "output_type": "display_data",
          "data": {
            "text/plain": [
              "<Figure size 432x288 with 1 Axes>"
            ],
            "image/png": "[encoded data removed]"
          },
          "metadata": {
            "needs_background": "light"
          }
        },
        {
          "output_type": "stream",
          "name": "stdout",
          "text": [
            "CPU Linear Fitting Operation 0.002393484115600586 s\n"
          ]
        }
      ]
    },
    {
      "cell_type": "code",
      "source": [
        "data = pd.read_csv(\"/content/sample_data/california_housing_train.csv\")\n",
        "data.dropna()\n",
        "A = data[['median_house_value','median_income']]\n",
        "cp_matrix = cp.array(A.values,'float')\n",
        "\n",
        "s = time.time()\n",
        "\n",
        "cp.polyfit(cp_matrix[:,0],cp_matrix[:,1], 1)\n",
        "\n",
        "e = time.time()\n",
        "print(\"GPU Linear Fitting Operation\", f'{e - s}{\" s\"}')\n",
        "del(data, cp_matrix, A, e, s)"
      ],
      "metadata": {
        "colab": {
          "base_uri": "https://localhost:8080/"
        },
        "id": "cRJA0nYwcgdo",
        "outputId": "204e5db5-8727-4689-b4d6-1ba59b107ee3"
      },
      "execution_count": null,
      "outputs": [
        {
          "output_type": "stream",
          "name": "stdout",
          "text": [
            "GPU Linear Fitting Operation 0.003510713577270508 s\n"
          ]
        }
      ]
    },
    {
      "cell_type": "markdown",
      "source": [
        "###Decorators\n",
        "CuPy comes with decorators to do some custom kernels.\n",
        "\n",
        "https://docs.cupy.dev/en/stable/reference/kernel.html\n",
        "\n"
      ],
      "metadata": {
        "id": "rFZX7UB0nA_9"
      }
    },
    {
      "cell_type": "code",
      "source": [
        "## GPU VERSION ##\n",
        "\n",
        "size = 10000    # array size\n",
        "\n",
        "a = cp.float32(2.0)\n",
        "x = cp.ones((1024,size),'f')\n",
        "y = cp.ones((1024,size),'f')\n",
        "\n",
        "@cp.fuse()\n",
        "def saxpy(a, x, y):\n",
        "  return a * x + y\n",
        "\n",
        "\n",
        "s1 = time.time()\n",
        "saxpy(a,x,y)\n",
        "e1 = time.time()\n",
        "\n",
        "print(\"GPU Fuse Kernel\", f'{e1 - s1}{\" s\"}')\n",
        "del(x,y,a)"
      ],
      "metadata": {
        "colab": {
          "base_uri": "https://localhost:8080/"
        },
        "id": "GFLkQBgmhi9H",
        "outputId": "70dff181-0b0b-4319-8c58-dce0e57e0b7d"
      },
      "execution_count": 25,
      "outputs": [
        {
          "output_type": "stream",
          "name": "stdout",
          "text": [
            "GPU Fuse Kernel 0.0007264614105224609 s\n"
          ]
        }
      ]
    },
    {
      "cell_type": "code",
      "source": [
        "## CPU VERSION ##\n",
        "\n",
        "a = np.float32(2.0)\n",
        "x = np.ones((1024,size),'f')\n",
        "y = np.ones((1024,size),'f')\n",
        "\n",
        "def saxpy(a, x, y):\n",
        "  return a * x + y\n",
        "\n",
        "s2 = time.time()\n",
        "saxpy(a,x,y)\n",
        "e2 = time.time()\n",
        "\n",
        "print(\"CPU Fuse Kernel\", f'{e2 - s2}{\" s\"}')\n",
        "print(\"Total speedup:\", ((e2-s2)/(e1-s1)))\n",
        "del(x,y,a,size)"
      ],
      "metadata": {
        "colab": {
          "base_uri": "https://localhost:8080/"
        },
        "id": "gcoCbzJkhpbG",
        "outputId": "2e1d5a56-5eb7-4b06-cb1e-77a8c3f34588"
      },
      "execution_count": 26,
      "outputs": [
        {
          "output_type": "stream",
          "name": "stdout",
          "text": [
            "CPU Fuse Kernel 0.01478433609008789 s\n",
            "Total speedup: 20.351165080406957\n"
          ]
        }
      ]
    },
    {
      "cell_type": "markdown",
      "source": [
        "#### Speed differences are noticeable on higher N arrays.\n",
        "There are many more decorators provided by CuPy. \n",
        "\n",
        "![saxpy](https://i.imgur.com/ayMrnVs.png)"
      ],
      "metadata": {
        "id": "lbH7JivC0_mO"
      }
    },
    {
      "cell_type": "markdown",
      "source": [
        "## Making **XGBoost** faster so we can tune faster\n",
        "\n",
        "XGBoost is an algorithm that uses gradient boosted trees. The graphic below explains what this is and how it is related to Decision Trees.\n",
        "\n",
        "A general problem with gradient boosted decision trees is that they are quick to learn and overfit training data.\n",
        "\n",
        "One effective way to improve models in the gradient boosting algorithm is to use a slower learning rate (at some cost to us). We may be able to improve the overall chances of us succesfully extrapolating our model.\n",
        "\n",
        "Tuning boosted trees is important. Below is an already tuned model but it may be possible to extract even better performance through a hyperparameter grid and brute forcing the algorithm. \n",
        "\n",
        "![art_1.PNG](https://miro.medium.com/max/1400/1*QJZ6W-Pck_W7RlIDwUIN9Q.jpeg)\n",
        "\n",
        "![art_1.PNG](https://miro.medium.com/max/883/1*8sV6Sr9uc0Ef39YBivLzrw.jpeg)\n"
      ],
      "metadata": {
        "id": "qOBv9kewZl46"
      }
    },
    {
      "cell_type": "code",
      "source": [
        "import pandas as pd\n",
        "import numpy as np\n",
        "import time\n",
        "import cupy as cp\n",
        "from cupyx.profiler import benchmark; import time\n",
        "import xgboost as xgb\n",
        "import seaborn\n",
        "from xgboost import XGBRegressor\n",
        "from sklearn.metrics import mean_absolute_error\n",
        "cp.cuda.get_device_id()"
      ],
      "metadata": {
        "id": "bTTDtUrnwj3Q",
        "colab": {
          "base_uri": "https://localhost:8080/"
        },
        "outputId": "8258f03c-c12b-41d6-f2d2-30c0f1c86c7f"
      },
      "execution_count": null,
      "outputs": [
        {
          "output_type": "execute_result",
          "data": {
            "text/plain": [
              "0"
            ]
          },
          "metadata": {},
          "execution_count": 5
        }
      ]
    },
    {
      "cell_type": "code",
      "source": [
        "data = pd.read_csv(\"/content/sample_data/california_housing_train.csv\")\n",
        "data.dropna()\n",
        "\n",
        "# Estimate Median_house_value using all other predictors\n",
        "\n",
        "data.hist(\"median_house_value\")\n",
        "data.describe()\n"
      ],
      "metadata": {
        "colab": {
          "base_uri": "https://localhost:8080/",
          "height": 628
        },
        "id": "UN-2Cl9sIFiR",
        "outputId": "ae84eac5-e4fb-4b73-c351-c384d2f32d65"
      },
      "execution_count": null,
      "outputs": [
        {
          "output_type": "execute_result",
          "data": {
            "text/plain": [
              "          longitude      latitude  housing_median_age   total_rooms  \\\n",
              "count  17000.000000  17000.000000        17000.000000  17000.000000   \n",
              "mean    -119.562108     35.625225           28.589353   2643.664412   \n",
              "std        2.005166      2.137340           12.586937   2179.947071   \n",
              "min     -124.350000     32.540000            1.000000      2.000000   \n",
              "25%     -121.790000     33.930000           18.000000   1462.000000   \n",
              "50%     -118.490000     34.250000           29.000000   2127.000000   \n",
              "75%     -118.000000     37.720000           37.000000   3151.250000   \n",
              "max     -114.310000     41.950000           52.000000  37937.000000   \n",
              "\n",
              "       total_bedrooms    population    households  median_income  \\\n",
              "count    17000.000000  17000.000000  17000.000000   17000.000000   \n",
              "mean       539.410824   1429.573941    501.221941       3.883578   \n",
              "std        421.499452   1147.852959    384.520841       1.908157   \n",
              "min          1.000000      3.000000      1.000000       0.499900   \n",
              "25%        297.000000    790.000000    282.000000       2.566375   \n",
              "50%        434.000000   1167.000000    409.000000       3.544600   \n",
              "75%        648.250000   1721.000000    605.250000       4.767000   \n",
              "max       6445.000000  35682.000000   6082.000000      15.000100   \n",
              "\n",
              "       median_house_value  \n",
              "count        17000.000000  \n",
              "mean        207300.912353  \n",
              "std         115983.764387  \n",
              "min          14999.000000  \n",
              "25%         119400.000000  \n",
              "50%         180400.000000  \n",
              "75%         265000.000000  \n",
              "max         500001.000000  "
            ],
            "text/html": [
              "\n",
              "  <div id=\"df-acc7119d-f43a-4409-a323-70c490c333fd\">\n",
              "    <div class=\"colab-df-container\">\n",
              "      <div>\n",
              "<style scoped>\n",
              "    .dataframe tbody tr th:only-of-type {\n",
              "        vertical-align: middle;\n",
              "    }\n",
              "\n",
              "    .dataframe tbody tr th {\n",
              "        vertical-align: top;\n",
              "    }\n",
              "\n",
              "    .dataframe thead th {\n",
              "        text-align: right;\n",
              "    }\n",
              "</style>\n",
              "<table border=\"1\" class=\"dataframe\">\n",
              "  <thead>\n",
              "    <tr style=\"text-align: right;\">\n",
              "      <th></th>\n",
              "      <th>longitude</th>\n",
              "      <th>latitude</th>\n",
              "      <th>housing_median_age</th>\n",
              "      <th>total_rooms</th>\n",
              "      <th>total_bedrooms</th>\n",
              "      <th>population</th>\n",
              "      <th>households</th>\n",
              "      <th>median_income</th>\n",
              "      <th>median_house_value</th>\n",
              "    </tr>\n",
              "  </thead>\n",
              "  <tbody>\n",
              "    <tr>\n",
              "      <th>count</th>\n",
              "      <td>17000.000000</td>\n",
              "      <td>17000.000000</td>\n",
              "      <td>17000.000000</td>\n",
              "      <td>17000.000000</td>\n",
              "      <td>17000.000000</td>\n",
              "      <td>17000.000000</td>\n",
              "      <td>17000.000000</td>\n",
              "      <td>17000.000000</td>\n",
              "      <td>17000.000000</td>\n",
              "    </tr>\n",
              "    <tr>\n",
              "      <th>mean</th>\n",
              "      <td>-119.562108</td>\n",
              "      <td>35.625225</td>\n",
              "      <td>28.589353</td>\n",
              "      <td>2643.664412</td>\n",
              "      <td>539.410824</td>\n",
              "      <td>1429.573941</td>\n",
              "      <td>501.221941</td>\n",
              "      <td>3.883578</td>\n",
              "      <td>207300.912353</td>\n",
              "    </tr>\n",
              "    <tr>\n",
              "      <th>std</th>\n",
              "      <td>2.005166</td>\n",
              "      <td>2.137340</td>\n",
              "      <td>12.586937</td>\n",
              "      <td>2179.947071</td>\n",
              "      <td>421.499452</td>\n",
              "      <td>1147.852959</td>\n",
              "      <td>384.520841</td>\n",
              "      <td>1.908157</td>\n",
              "      <td>115983.764387</td>\n",
              "    </tr>\n",
              "    <tr>\n",
              "      <th>min</th>\n",
              "      <td>-124.350000</td>\n",
              "      <td>32.540000</td>\n",
              "      <td>1.000000</td>\n",
              "      <td>2.000000</td>\n",
              "      <td>1.000000</td>\n",
              "      <td>3.000000</td>\n",
              "      <td>1.000000</td>\n",
              "      <td>0.499900</td>\n",
              "      <td>14999.000000</td>\n",
              "    </tr>\n",
              "    <tr>\n",
              "      <th>25%</th>\n",
              "      <td>-121.790000</td>\n",
              "      <td>33.930000</td>\n",
              "      <td>18.000000</td>\n",
              "      <td>1462.000000</td>\n",
              "      <td>297.000000</td>\n",
              "      <td>790.000000</td>\n",
              "      <td>282.000000</td>\n",
              "      <td>2.566375</td>\n",
              "      <td>119400.000000</td>\n",
              "    </tr>\n",
              "    <tr>\n",
              "      <th>50%</th>\n",
              "      <td>-118.490000</td>\n",
              "      <td>34.250000</td>\n",
              "      <td>29.000000</td>\n",
              "      <td>2127.000000</td>\n",
              "      <td>434.000000</td>\n",
              "      <td>1167.000000</td>\n",
              "      <td>409.000000</td>\n",
              "      <td>3.544600</td>\n",
              "      <td>180400.000000</td>\n",
              "    </tr>\n",
              "    <tr>\n",
              "      <th>75%</th>\n",
              "      <td>-118.000000</td>\n",
              "      <td>37.720000</td>\n",
              "      <td>37.000000</td>\n",
              "      <td>3151.250000</td>\n",
              "      <td>648.250000</td>\n",
              "      <td>1721.000000</td>\n",
              "      <td>605.250000</td>\n",
              "      <td>4.767000</td>\n",
              "      <td>265000.000000</td>\n",
              "    </tr>\n",
              "    <tr>\n",
              "      <th>max</th>\n",
              "      <td>-114.310000</td>\n",
              "      <td>41.950000</td>\n",
              "      <td>52.000000</td>\n",
              "      <td>37937.000000</td>\n",
              "      <td>6445.000000</td>\n",
              "      <td>35682.000000</td>\n",
              "      <td>6082.000000</td>\n",
              "      <td>15.000100</td>\n",
              "      <td>500001.000000</td>\n",
              "    </tr>\n",
              "  </tbody>\n",
              "</table>\n",
              "</div>\n",
              "      <button class=\"colab-df-convert\" onclick=\"convertToInteractive('df-acc7119d-f43a-4409-a323-70c490c333fd')\"\n",
              "              title=\"Convert this dataframe to an interactive table.\"\n",
              "              style=\"display:none;\">\n",
              "        \n",
              "  <svg xmlns=\"http://www.w3.org/2000/svg\" height=\"24px\"viewBox=\"0 0 24 24\"\n",
              "       width=\"24px\">\n",
              "    <path d=\"M0 0h24v24H0V0z\" fill=\"none\"/>\n",
              "    <path d=\"M18.56 5.44l.94 2.06.94-2.06 2.06-.94-2.06-.94-.94-2.06-.94 2.06-2.06.94zm-11 1L8.5 8.5l.94-2.06 2.06-.94-2.06-.94L8.5 2.5l-.94 2.06-2.06.94zm10 10l.94 2.06.94-2.06 2.06-.94-2.06-.94-.94-2.06-.94 2.06-2.06.94z\"/><path d=\"M17.41 7.96l-1.37-1.37c-.4-.4-.92-.59-1.43-.59-.52 0-1.04.2-1.43.59L10.3 9.45l-7.72 7.72c-.78.78-.78 2.05 0 2.83L4 21.41c.39.39.9.59 1.41.59.51 0 1.02-.2 1.41-.59l7.78-7.78 2.81-2.81c.8-.78.8-2.07 0-2.86zM5.41 20L4 18.59l7.72-7.72 1.47 1.35L5.41 20z\"/>\n",
              "  </svg>\n",
              "      </button>\n",
              "      \n",
              "  <style>\n",
              "    .colab-df-container {\n",
              "      display:flex;\n",
              "      flex-wrap:wrap;\n",
              "      gap: 12px;\n",
              "    }\n",
              "\n",
              "    .colab-df-convert {\n",
              "      background-color: #E8F0FE;\n",
              "      border: none;\n",
              "      border-radius: 50%;\n",
              "      cursor: pointer;\n",
              "      display: none;\n",
              "      fill: #1967D2;\n",
              "      height: 32px;\n",
              "      padding: 0 0 0 0;\n",
              "      width: 32px;\n",
              "    }\n",
              "\n",
              "    .colab-df-convert:hover {\n",
              "      background-color: #E2EBFA;\n",
              "      box-shadow: 0px 1px 2px rgba(60, 64, 67, 0.3), 0px 1px 3px 1px rgba(60, 64, 67, 0.15);\n",
              "      fill: #174EA6;\n",
              "    }\n",
              "\n",
              "    [theme=dark] .colab-df-convert {\n",
              "      background-color: #3B4455;\n",
              "      fill: #D2E3FC;\n",
              "    }\n",
              "\n",
              "    [theme=dark] .colab-df-convert:hover {\n",
              "      background-color: #434B5C;\n",
              "      box-shadow: 0px 1px 3px 1px rgba(0, 0, 0, 0.15);\n",
              "      filter: drop-shadow(0px 1px 2px rgba(0, 0, 0, 0.3));\n",
              "      fill: #FFFFFF;\n",
              "    }\n",
              "  </style>\n",
              "\n",
              "      <script>\n",
              "        const buttonEl =\n",
              "          document.querySelector('#df-acc7119d-f43a-4409-a323-70c490c333fd button.colab-df-convert');\n",
              "        buttonEl.style.display =\n",
              "          google.colab.kernel.accessAllowed ? 'block' : 'none';\n",
              "\n",
              "        async function convertToInteractive(key) {\n",
              "          const element = document.querySelector('#df-acc7119d-f43a-4409-a323-70c490c333fd');\n",
              "          const dataTable =\n",
              "            await google.colab.kernel.invokeFunction('convertToInteractive',\n",
              "                                                     [key], {});\n",
              "          if (!dataTable) return;\n",
              "\n",
              "          const docLinkHtml = 'Like what you see? Visit the ' +\n",
              "            '<a target=\"_blank\" href=https://colab.research.google.com/notebooks/data_table.ipynb>data table notebook</a>'\n",
              "            + ' to learn more about interactive tables.';\n",
              "          element.innerHTML = '';\n",
              "          dataTable['output_type'] = 'display_data';\n",
              "          await google.colab.output.renderOutput(dataTable, element);\n",
              "          const docLink = document.createElement('div');\n",
              "          docLink.innerHTML = docLinkHtml;\n",
              "          element.appendChild(docLink);\n",
              "        }\n",
              "      </script>\n",
              "    </div>\n",
              "  </div>\n",
              "  "
            ]
          },
          "metadata": {},
          "execution_count": 15
        },
        {
          "output_type": "display_data",
          "data": {
            "text/plain": [
              "<Figure size 432x288 with 1 Axes>"
            ],
            "image/png": "[encoded data removed]"
          },
          "metadata": {
            "needs_background": "light"
          }
        }
      ]
    },
    {
      "cell_type": "code",
      "source": [],
      "metadata": {
        "id": "6qz6qTuzdrxM"
      },
      "execution_count": null,
      "outputs": []
    },
    {
      "cell_type": "code",
      "source": [
        "data = pd.read_csv(\"/content/sample_data/california_housing_train.csv\")\n",
        "data.dropna()\n",
        "y = data.median_house_value\n",
        "X = data.drop(['median_house_value'], axis=1)\n",
        "\n",
        "s1 = time.time()\n",
        "np_matrix = np.array(X)\n",
        "np_y = np.array(y)\n",
        "\n",
        "test = pd.read_csv(\"/content/sample_data/california_housing_test.csv\")\n",
        "test.dropna()\n",
        "By = test.median_house_value\n",
        "Bx = test.drop(['median_house_value'], axis=1)\n",
        "\n",
        "test_matrix = np.array(Bx)\n",
        "test_y = np.array(By)\n",
        "\n",
        "print(type(np_matrix))\n",
        "\n",
        "# \"colsample_by_tree\" is the fraction of features (randomly selected) that will be used to train each tree.\n",
        "# max_depth = depth of the trees\n",
        "# subsample = the fraction of the training samples (randomly selected) that will be used to train each tree.\n",
        "# alpha = responsible for L1 regularization on leaf weight\n",
        "# The regularization’s objective is to counter overfitting models by lowering variance while increasing some bias. (Variance Bias Tradeoff) \n",
        "# Lasso(L1) adds the sum of the absolute beta coefficients\n",
        "# hist tree method: An approximation tree method. \n",
        "\n",
        "my_model = XGBRegressor(objective='reg:squarederror', colsample_bytree= 1, learning_rate = 0.01,\n",
        "                         max_depth = 7, alpha = 10, n_estimators = 1000, subsample=0.6, booster = 'gbtree')\n",
        "\n",
        "my_model.fit(np_matrix, np_y, verbose=False)\n",
        "\n",
        "\n",
        "# make predictions\n",
        "predictions = my_model.predict(test_matrix)\n",
        "e1 = time.time()\n",
        "\n",
        "print(\"Mean Absolute Error : \" + str(mean_absolute_error(predictions, test_y)))\n",
        "print(\"Time taken:\", e1-s1, \"s\")"
      ],
      "metadata": {
        "colab": {
          "base_uri": "https://localhost:8080/"
        },
        "id": "UfpaqkfSqN4Q",
        "outputId": "4016b043-8fdf-4976-cbb7-8589f7f6f23f"
      },
      "execution_count": null,
      "outputs": [
        {
          "output_type": "stream",
          "name": "stdout",
          "text": [
            "<class 'numpy.ndarray'>\n",
            "Mean Absolute Error : 30978.976837239585\n",
            "Time taken: 24.83057689666748 s\n"
          ]
        }
      ]
    },
    {
      "cell_type": "code",
      "source": [
        "data = pd.read_csv(\"/content/sample_data/california_housing_train.csv\")\n",
        "\n",
        "\n",
        "y = data.median_house_value\n",
        "X = data.drop(['median_house_value'], axis=1)\n",
        "\n",
        "s2 = time.time()\n",
        "cp_matrix = cp.array(X.values)\n",
        "cp_y = cp.array(y.values)\n",
        "\n",
        "print(type(cp_matrix))\n",
        "\n",
        "test = pd.read_csv(\"/content/sample_data/california_housing_test.csv\")\n",
        "\n",
        "By = test.median_house_value\n",
        "Bx = test.drop(['median_house_value'], axis=1)\n",
        "test_matrix = cp.array(Bx)\n",
        "test_y = cp.array(By)\n",
        "\n",
        "# https://xgboost.readthedocs.io/en/stable/gpu/index.html\n",
        "\n",
        "my_model = XGBRegressor(objective='reg:squarederror', colsample_bytree= 1, learning_rate = 0.015,\n",
        "                         max_depth = 9, alpha = 10, n_estimators = 1500, subsample=0.6, booster = 'gbtree', n_jobs=-1, tree_method='gpu_hist', gpu_id=0, predictor='gpu_predictor')\n",
        "\n",
        "my_model.fit(cp_matrix, cp_y)\n",
        "\n",
        "\n",
        "# make predictions\n",
        "predictions = my_model.predict(test_matrix)\n",
        "e2 = time.time()\n",
        "\n",
        "print(\"Mean Absolute Error : \" + str(mean_absolute_error(predictions, test_y.get())))\n",
        "print(\"Time taken:\", e2 - s2, \"s\")"
      ],
      "metadata": {
        "colab": {
          "base_uri": "https://localhost:8080/"
        },
        "id": "bz4Qo8m1wEn8",
        "outputId": "a1e564bf-1eea-4203-c0b9-22a84911e33e"
      },
      "execution_count": null,
      "outputs": [
        {
          "output_type": "stream",
          "name": "stdout",
          "text": [
            "<class 'cupy.ndarray'>\n",
            "Mean Absolute Error : 29719.547342447917\n",
            "Time taken: 8.91966438293457 s\n"
          ]
        }
      ]
    },
    {
      "cell_type": "code",
      "source": [
        "#Cleanup cell\n",
        "del(Bx,By,X,cp_matrix,cp_y,data,np_matrix,np_y,predictions,test,test_matrix,test_y,y)"
      ],
      "metadata": {
        "id": "Z7LxkrYVxn12"
      },
      "execution_count": null,
      "outputs": []
    },
    {
      "cell_type": "markdown",
      "source": [
        "*Use cleanup cell if you notice RAM or Disk space is maxing.*\n",
        "\n",
        "## Premium vs. Non-Premium GPUs vs CPU:\n",
        "- Average runtime on CPU: 14-20s.\n",
        "- Average runtime on GPU without CuPy: 7.7s.\n",
        "- Average runtime on non-premium GPU with CuPy: 3.2s.\n",
        "- Average runtime on premium GPU with CuPy using all available resources (n-jobs = -1): 2.3s.\n",
        "- Appears to be halving.\n",
        "- Is that worth the $10?"
      ],
      "metadata": {
        "id": "mr4llrSlCYMY"
      }
    },
    {
      "cell_type": "markdown",
      "source": [
        "### Simple Convolutional Neural Network\n",
        "\n",
        "Using the Chainer library (which gives us simple tools to build our neural network) we can have a CuPy enabled neural network learn efficiently on our GPU."
      ],
      "metadata": {
        "id": "RhjWp4yhhtMR"
      }
    },
    {
      "cell_type": "code",
      "source": [
        "!pip install chainer\n",
        "import chainer\n",
        "import chainer.functions as F\n",
        "import chainer.links as L\n",
        "from chainer.datasets import cifar\n",
        "from chainer import iterators\n",
        "from chainer import optimizers\n",
        "from chainer import training\n",
        "from chainer.training import extensions\n",
        "\n",
        "\n",
        "class MyModel(chainer.Chain):\n",
        "    # 3 convolution layers (links)\n",
        "    # 2 fully-connected layers\n",
        "    def __init__(self, n_out):\n",
        "        super(MyModel, self).__init__()\n",
        "        with self.init_scope():\n",
        "            self.conv1=L.Convolution2D(None, 32, 3, 3, 1)\n",
        "            self.conv2=L.Convolution2D(32, 64, 3, 3, 1)\n",
        "            self.conv3=L.Convolution2D(64, 128, 3, 3, 1)\n",
        "            self.fc4=L.Linear(None, 1000)\n",
        "            self.fc5=L.Linear(1000, n_out)\n",
        "    # we can call the chain like a function\n",
        "    # this is where we do forward propogation\n",
        "    def __call__(self, x):\n",
        "        h = F.relu(self.conv1(x))\n",
        "        h = F.relu(self.conv2(h))\n",
        "        h = F.relu(self.conv3(h))\n",
        "        h = F.relu(self.fc4(h))\n",
        "        h = self.fc5(h)\n",
        "        return h\n",
        "\n",
        "#check this for GPU ID        \n",
        "!nvidia-smi -L # can always see fancy output by removing -L"
      ],
      "metadata": {
        "colab": {
          "base_uri": "https://localhost:8080/"
        },
        "id": "RfT6R_4bj3Ib",
        "outputId": "40c6e26a-49e4-4083-a1f3-2367ac6594e8"
      },
      "execution_count": 1,
      "outputs": [
        {
          "output_type": "stream",
          "name": "stdout",
          "text": [
            "Looking in indexes: https://pypi.org/simple, https://us-python.pkg.dev/colab-wheels/public/simple/\n",
            "Collecting chainer\n",
            "  Downloading chainer-7.8.1.tar.gz (1.0 MB)\n",
            "\u001b[K     |████████████████████████████████| 1.0 MB 10.5 MB/s \n",
            "\u001b[?25hRequirement already satisfied: setuptools in /usr/local/lib/python3.8/dist-packages (from chainer) (57.4.0)\n",
            "Requirement already satisfied: typing_extensions in /usr/local/lib/python3.8/dist-packages (from chainer) (4.4.0)\n",
            "Requirement already satisfied: filelock in /usr/local/lib/python3.8/dist-packages (from chainer) (3.8.0)\n",
            "Requirement already satisfied: numpy>=1.9.0 in /usr/local/lib/python3.8/dist-packages (from chainer) (1.21.6)\n",
            "Requirement already satisfied: protobuf>=3.0.0 in /usr/local/lib/python3.8/dist-packages (from chainer) (3.19.6)\n",
            "Requirement already satisfied: six>=1.9.0 in /usr/local/lib/python3.8/dist-packages (from chainer) (1.15.0)\n",
            "Building wheels for collected packages: chainer\n",
            "  Building wheel for chainer (setup.py) ... \u001b[?25l\u001b[?25hdone\n",
            "  Created wheel for chainer: filename=chainer-7.8.1-py3-none-any.whl size=967740 sha256=06303717b0179174ac55723f17b0ee142c0b6adda8a242597cde39ed64c88d41\n",
            "  Stored in directory: /root/.cache/pip/wheels/c5/01/d5/3ef194fa83dbf1d97bab826ca2bf235071f412861189a7b9df\n",
            "Successfully built chainer\n",
            "Installing collected packages: chainer\n",
            "Successfully installed chainer-7.8.1\n",
            "NVIDIA-SMI has failed because it couldn't communicate with the NVIDIA driver. Make sure that the latest NVIDIA driver is installed and running.\n",
            "\n"
          ]
        }
      ]
    },
    {
      "cell_type": "code",
      "source": [
        "# Convolutional neural network\n",
        "\n",
        "def train(model_object, batchsize=64, gpu_id=0, max_epoch=20):\n",
        "\n",
        "    # Dataset\n",
        "    # Cifar 10: https://www.cs.toronto.edu/~kriz/cifar.html\n",
        "    train, test = cifar.get_cifar10()\n",
        "\n",
        "    # Iterator\n",
        "    # Serial: Dataset iterator that serially reads the examples.\n",
        "    train_iterator = iterators.SerialIterator(train, batchsize)\n",
        "\n",
        "    # repeat=False:  Stops iteration at the end of the first epoch   \n",
        "    # shuffle=False: Examples are extracted in the order of indexes\n",
        "    test_iterator = iterators.SerialIterator(test, batchsize, False, False)\n",
        "    \n",
        "\n",
        "\n",
        "    # Classifier Model: We hope to classify the Cifar10 data \n",
        "    # We need to compute loss and accuracy for our model based on a given input and label\n",
        "    model = L.Classifier(model_object)\n",
        "    if gpu_id >=0:\n",
        "        model.to_gpu(gpu_id)\n",
        "\n",
        "    # Optimizer\n",
        "    # https://docs.chainer.org/en/stable/reference/optimizers.html\n",
        "    # We could set alpha here to slow learning rate, but this is already pretty slow on our machine\n",
        "    optimizer = optimizers.Adam()   # https://docs.chainer.org/en/stable/reference/generated/chainer.optimizers.Adam.html#chainer.optimizers.Adam\n",
        "    # Extension to stochastic gradient descent \n",
        "    optimizer.setup(model) \n",
        "\n",
        "    # Updater\n",
        "    # Implements a training iteration\n",
        "    updater = training.StandardUpdater(train_iterator, optimizer, device=gpu_id)\n",
        "    # updater = training.StandardUpdater(train_iterator, optimizer)\n",
        "\n",
        "    # Trainer\n",
        "    # Replaces writing a training loop in trainer\n",
        "    # Connected to the Updater so that we can optimize parameters of the model as we run\n",
        "    trainer = training.Trainer(updater, (max_epoch, 'epoch'), out='{}_cifar10_result'.format(model_object.__class__.__name__))\n",
        "\n",
        "    # Evaluator\n",
        "    # Update models by using our evaluation set\n",
        "    class TestModeEvaluator(extensions.Evaluator):\n",
        "        def evaluate(self):\n",
        "            model = self.get_target('main')\n",
        "            ret = super(TestModeEvaluator, self).evaluate()\n",
        "            return ret\n",
        "\n",
        "    trainer.extend(extensions.LogReport())\n",
        "    trainer.extend(TestModeEvaluator(test_iterator, model, device=gpu_id))\n",
        "    # trainer.extend(TestModeEvaluator(test_iterator, model))\n",
        "    \n",
        "    # Build report and report images\n",
        "    trainer.extend(extensions.PrintReport(['epoch', 'main/loss', 'main/accuracy', 'validation/main/loss', 'validation/main/accuracy', 'elapsed_time']))\n",
        "    trainer.extend(extensions.PlotReport(['main/loss', 'validation/main/loss'], x_key='epoch', file_name='loss.png'))\n",
        "    trainer.extend(extensions.PlotReport(['main/accuracy', 'validation/main/accuracy'], x_key='epoch', file_name='accuracy.png'))\n",
        "    \n",
        "    # Run model\n",
        "    trainer.run()\n",
        "    del trainer\n",
        "\n",
        "    return model\n",
        "\n",
        "\n",
        "gpu_id = 0\n",
        "\n",
        "model = train(MyModel(10), gpu_id=gpu_id)\n",
        "# model = train(MyModel(10))"
      ],
      "metadata": {
        "colab": {
          "base_uri": "https://localhost:8080/"
        },
        "id": "Sgxq6BxsuPCE",
        "outputId": "1c8a4247-ed2f-498c-b065-7e1d1d0b9b1b"
      },
      "execution_count": null,
      "outputs": [
        {
          "output_type": "stream",
          "name": "stdout",
          "text": [
            "epoch       main/loss   main/accuracy  validation/main/loss  validation/main/accuracy  elapsed_time\n",
            "\u001b[J1           1.55158     0.438439       1.31555               0.5209                    63.6005       \n",
            "\u001b[J2           1.22885     0.558039       1.21125               0.559713                  130.913       \n",
            "\u001b[J3           1.07309     0.614617       1.10339               0.597631                  195.979       \n",
            "\u001b[J4           0.94571     0.663332       1.12138               0.600518                  260.796       \n",
            "\u001b[J5           0.839762    0.700348       1.03974               0.630573                  324.891       \n",
            "\u001b[J6           0.73532     0.740377       1.07504               0.635748                  389.324       \n",
            "\u001b[J7           0.632911    0.773448       1.11602               0.638535                  453.469       \n",
            "\u001b[J8           0.520719    0.815901       1.15841               0.644705                  533.662       \n"
          ]
        }
      ]
    },
    {
      "cell_type": "code",
      "source": [
        "%matplotlib inline\n",
        "import matplotlib.pyplot as plt\n",
        "\n",
        "# Cifar 10\n",
        "# 10 class names, as listed below\n",
        "class_names = ['airplane', 'automobile', 'bird', 'cat', 'deer',\n",
        "             'dog', 'frog', 'horse', 'ship', 'truck']\n",
        "\n",
        "# Predict by using the correct labels and our model predictions\n",
        "# model.predictor()\n",
        "def predict(model, image_id):\n",
        "  \n",
        "    # use _ to ignore variables\n",
        "    _, test = cifar.get_cifar10()\n",
        "    x, t = test[image_id]\n",
        "    # need to return model to CPU \n",
        "    model.to_cpu()\n",
        "    y = model.predictor(x[None, :]).data.argmax(axis=1)[0]\n",
        "    print('predicted_label:', class_names[y])\n",
        "    print('answer:', class_names[t])\n",
        "    \n",
        "    plt.imshow(x.transpose(1, 2, 0))\n",
        "    plt.show()\n",
        "\n",
        "\n",
        "for i in range(95,100):\n",
        "    predict(model, i)"
      ],
      "metadata": {
        "colab": {
          "base_uri": "https://localhost:8080/",
          "height": 1000
        },
        "id": "OLOK-8RNvrNq",
        "outputId": "8eee078d-bbdd-48f8-9064-ff5703207e35"
      },
      "execution_count": null,
      "outputs": [
        {
          "output_type": "stream",
          "name": "stdout",
          "text": [
            "predicted_label: frog\n",
            "answer: frog\n"
          ]
        },
        {
          "output_type": "display_data",
          "data": {
            "text/plain": [
              "<Figure size 432x288 with 1 Axes>"
            ],
            "image/png": "[encoded data removed]"
          },
          "metadata": {
            "needs_background": "light"
          }
        },
        {
          "output_type": "stream",
          "name": "stdout",
          "text": [
            "predicted_label: frog\n",
            "answer: frog\n"
          ]
        },
        {
          "output_type": "display_data",
          "data": {
            "text/plain": [
              "<Figure size 432x288 with 1 Axes>"
            ],
            "image/png": "[encoded data removed]"
          },
          "metadata": {
            "needs_background": "light"
          }
        },
        {
          "output_type": "stream",
          "name": "stdout",
          "text": [
            "predicted_label: airplane\n",
            "answer: airplane\n"
          ]
        },
        {
          "output_type": "display_data",
          "data": {
            "text/plain": [
              "<Figure size 432x288 with 1 Axes>"
            ],
            "image/png": "[encoded data removed]"
          },
          "metadata": {
            "needs_background": "light"
          }
        },
        {
          "output_type": "stream",
          "name": "stdout",
          "text": [
            "predicted_label: airplane\n",
            "answer: airplane\n"
          ]
        },
        {
          "output_type": "display_data",
          "data": {
            "text/plain": [
              "<Figure size 432x288 with 1 Axes>"
            ],
            "image/png": "[encoded data removed]"
          },
          "metadata": {
            "needs_background": "light"
          }
        },
        {
          "output_type": "stream",
          "name": "stdout",
          "text": [
            "predicted_label: horse\n",
            "answer: horse\n"
          ]
        },
        {
          "output_type": "display_data",
          "data": {
            "text/plain": [
              "<Figure size 432x288 with 1 Axes>"
            ],
            "image/png": "[encoded data removed]"
          },
          "metadata": {
            "needs_background": "light"
          }
        }
      ]
    },
    {
      "cell_type": "code",
      "source": [
        "from IPython.display import Image\n",
        "Image(filename='MyModel_cifar10_result/loss.png')"
      ],
      "metadata": {
        "colab": {
          "base_uri": "https://localhost:8080/",
          "height": 279
        },
        "id": "2yuk2LXcjWo0",
        "outputId": "782816ea-2372-4841-fd2a-affddf0ddb1d"
      },
      "execution_count": null,
      "outputs": [
        {
          "output_type": "execute_result",
          "data": {
            "image/png": "[encoded data removed]",
            "text/plain": [
              "<IPython.core.display.Image object>"
            ]
          },
          "metadata": {},
          "execution_count": 9
        }
      ]
    },
    {
      "cell_type": "code",
      "source": [
        "Image(filename='MyModel_cifar10_result/accuracy.png')"
      ],
      "metadata": {
        "colab": {
          "base_uri": "https://localhost:8080/",
          "height": 279
        },
        "id": "T71q1kWpjczN",
        "outputId": "57736f19-f994-4461-a203-9c170b3369ae"
      },
      "execution_count": null,
      "outputs": [
        {
          "output_type": "execute_result",
          "data": {
            "image/png": "[encoded data removed]",
            "text/plain": [
              "<IPython.core.display.Image object>"
            ]
          },
          "metadata": {},
          "execution_count": 10
        }
      ]
    },
    {
      "cell_type": "markdown",
      "source": [
        "### **Speedup and Analysis**\n",
        "\n",
        "Per-epoch speed for the Premium GPU's was higher accross the board, with the first epoch being around 4x faster on average, and gradually this speedup diminished. We average around 7 seconds an epoch for both premium and non-premium GPUs. We basically gain only around 7 seconds of speed in our small task here.\n",
        "\n",
        "I noticed a strange result in which the training and validation accuracy was higher on the Premium GPU. \n",
        "\n",
        "Final time speed on normal GPU average: ~155-166s+.\n",
        "\n",
        "Premium GPU time:  ~148s\n",
        "\n",
        "Just not seeing really a massive improvement despite the 'Premium GPU' tag on the system. Higher RAM not necessarily important for this task (especially small network).\n",
        "\n",
        "CPU: Chainer is dependent on CuPy in this model, which means it cannot run on the CPU. From my research it appears that Chainer is considerably slower on a CPU, as expected.\n",
        "\n"
      ],
      "metadata": {
        "id": "bbfI2avBD1is"
      }
    },
    {
      "cell_type": "markdown",
      "source": [
        "Premium GPU: A100-SXM4-40GB\n",
        "\n",
        "Standard GPU: Tesla T4"
      ],
      "metadata": {
        "id": "sT-m7TEvIQDB"
      }
    }
  ]
}